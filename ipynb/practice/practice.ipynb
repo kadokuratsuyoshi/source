{
 "cells": [
  {
   "cell_type": "markdown",
   "metadata": {},
   "source": [
    "### 原点 $(r=0)$  $\\Delta \\left( \\frac{1}{r}\\right)=-4 \\pi \\delta(\\boldsymbol{r})$ について"
   ]
  },
  {
   "cell_type": "markdown",
   "metadata": {},
   "source": [
    "・$r \\neq 0$の場合"
   ]
  },
  {
   "cell_type": "markdown",
   "metadata": {},
   "source": [
    "$\n",
    "\\begin{eqnarray}\n",
    "r = (x^2+y^2+z^2)^{\\frac{1}{2}}\n",
    "\\end{eqnarray}\n",
    "$"
   ]
  },
  {
   "cell_type": "markdown",
   "metadata": {},
   "source": [
    "$\n",
    "\\begin{eqnarray}\n",
    "\\frac{\\partial r}{\\partial x} & = & \\frac{1}{2}(x^2+y^2+z^2)^{-\\frac{1}{2}} \\cdot 2x = (x^2+y^2+z^2)^{-\\frac{1}{2}} \\cdot x = \\frac{x}{r}\n",
    "\\end{eqnarray}\n",
    "$"
   ]
  },
  {
   "cell_type": "markdown",
   "metadata": {},
   "source": [
    "$\n",
    "\\begin{eqnarray}\n",
    "\\frac{\\partial^2 r}{\\partial x^2} & = & -\\frac{1}{2}(x^2+y^2+z^2)^{-\\frac{3}{2}}\\cdot 2x^2 + (x^2+y^2+z^2)^{-\\frac{1}{2}}\n",
    "=-\\frac{2x^2}{2 \\sqrt[3]{x^2+y^2+z^2}} + \\frac{1}{\\sqrt{x^2+y^2+z^2}} = -\\frac{x^2}{r^3} + \\frac{1}{r}\n",
    "\\end{eqnarray}\n",
    "$"
   ]
  },
  {
   "cell_type": "markdown",
   "metadata": {},
   "source": [
    "$\n",
    "\\begin{eqnarray}\n",
    "\\boldsymbol{\\nabla} \\frac{1}{r} & = & \\left(\n",
    "\\frac{\\partial}{\\partial x} \\frac{1}{\\sqrt{x^2+y^2+z^2}},\n",
    "\\frac{\\partial}{\\partial y} \\frac{1}{\\sqrt{x^2+y^2+z^2}},\n",
    "\\frac{\\partial}{\\partial z} \\frac{1}{\\sqrt{x^2+y^2+z^2}}\n",
    "\\right)\n",
    "\\\\\n",
    "& = & \\left(\n",
    "-\\frac{1}{2}(x^2+y^2+z^2)^{-\\frac{3}{2}} \\cdot 2x,\n",
    "-\\frac{1}{2}(x^2+y^2+z^2)^{-\\frac{3}{2}} \\cdot 2y,\n",
    "-\\frac{1}{2}(x^2+y^2+z^2)^{-\\frac{3}{2}} \\cdot 2z\n",
    "\\right)\n",
    "\\\\\n",
    "& = & \\left(\n",
    "- \\frac{x}{\\sqrt[3]{x^2+y^2+z^2}},\n",
    "- \\frac{y}{\\sqrt[3]{x^2+y^2+z^2}},\n",
    "- \\frac{z}{\\sqrt[3]{x^2+y^2+z^2}}\n",
    "\\right)\n",
    "\\\\\n",
    "& = & - \\frac{\\boldsymbol{r}}{r^3}\n",
    "\\\\\n",
    "\\therefore\n",
    "\\nabla \\frac{1}{r} & = & -\\frac{\\boldsymbol{r}}{r^3}\n",
    "\\end{eqnarray}\n",
    "$"
   ]
  },
  {
   "cell_type": "markdown",
   "metadata": {},
   "source": [
    "$\n",
    "\\begin{eqnarray}\n",
    "\\Delta \\frac{1}{r} & = & \\nabla \\cdot \\nabla \\frac{1}{r} = \\nabla \\cdot \\left( -\\frac{\\boldsymbol{r}}{r^3}\\right)\n",
    "\\\\\n",
    "& = &\n",
    "\\frac{\\partial}{\\partial x} \\left(-\\frac{x}{\\sqrt[3]{x^2+y^2+z^2}}\\right)+\n",
    "\\frac{\\partial}{\\partial y} \\left(-\\frac{x}{\\sqrt[3]{x^2+y^2+z^2}}\\right)+\n",
    "\\frac{\\partial}{\\partial z} \\left(-\\frac{x}{\\sqrt[3]{x^2+y^2+z^2}}\\right)\n",
    "\\\\\n",
    "& = &\n",
    "\\left( -\\frac{1}{r^3} + 3 \\frac{x^2}{r^5} \\right)+\n",
    "\\left( -\\frac{1}{r^3} + 3 \\frac{y^2}{r^5} \\right)+\n",
    "\\left( -\\frac{1}{r^3} + 3 \\frac{z^2}{r^5} \\right)\n",
    "\\\\\n",
    "& = &\n",
    "-\\frac{3}{r^3} + 3 \\frac{x^2+y^2+z^2}{r^5} = -\\frac{3}{r^3} + 3 \\frac{r^2}{r^5} = 0\n",
    "\\\\\n",
    "\\therefore\n",
    "\\Delta \\frac{1}{r} & = & 0\n",
    "\\end{eqnarray}\n",
    "$"
   ]
  },
  {
   "cell_type": "markdown",
   "metadata": {},
   "source": [
    "・$r = 0$の場合 (体積分→原点以外と原点近傍と分ける→原点以外はゼロとして求める)"
   ]
  },
  {
   "cell_type": "markdown",
   "metadata": {},
   "source": [
    "$\n",
    "\\begin{eqnarray}\n",
    "\\int_\\rm{V^\\prime} \\Delta \\left(\\frac{1}{r}\\right) & = & 0\n",
    "\\end{eqnarray}\n",
    "$"
   ]
  },
  {
   "cell_type": "markdown",
   "metadata": {},
   "source": [
    "$\n",
    "\\begin{eqnarray}\n",
    "\\int_{V^\\prime} \\Delta \\left( \\frac{1}{r} \\right) dV & = & \n",
    "\\int_{V^\\prime} \\nabla^2 \\left( \\frac{1}{r} \\right) dV = \n",
    "\\int_{V^\\prime} \\nabla \\cdot \\nabla  \\left( \\frac{1}{r} \\right) dV = \n",
    "\\int_S \\nabla \\left( \\frac{1}{n} \\right) \\cdot \\boldsymbol{n} d S =\n",
    "\\int_{S1} \\nabla \\left( \\frac{1}{n} \\right) \\cdot \\boldsymbol{n} d S +\n",
    "\\int_{S2} \\nabla \\left( \\frac{1}{n} \\right) \\cdot \\boldsymbol{n} d S\n",
    "\\\\\n",
    "& = &\n",
    "\\int_{V} \\Delta \\left( \\frac{1}{r} \\right) dV -\n",
    "\\int_{S2} \\frac{\\boldsymbol{r}}{r^3} \\cdot \\boldsymbol{n}dS = 0\n",
    "\\\\\n",
    "\\therefore\n",
    "\\int_{V} \\Delta \\left( \\frac{1}{r} \\right) dV \n",
    "& = &\n",
    "\\int_{S2} \\frac{\\boldsymbol{r}}{r^3} \\cdot \\boldsymbol{n}dS\n",
    "\\end{eqnarray}\n",
    "$"
   ]
  },
  {
   "cell_type": "markdown",
   "metadata": {},
   "source": [
    "法線の定義（ベクトルが作る接線と垂直な線）より、"
   ]
  },
  {
   "cell_type": "markdown",
   "metadata": {},
   "source": [
    "$\n",
    "\\begin{eqnarray}\n",
    "y-0 & = & -\\frac{1}{y^\\prime} (x-0)\n",
    "\\\\\n",
    "y & = & -\\frac{1}{y^\\prime}x\n",
    "\\\\\n",
    "\\frac{y}{x} y^\\prime & = & -1\n",
    "\\\\\n",
    "\\frac{y}{x} \\frac{dy}{dx} & = & -1\n",
    "\\\\\n",
    "y dy & = & -x dx\n",
    "\\\\\n",
    "x dx + y dy & = & 0\n",
    "\\\\\n",
    "x^2 + y^2 & = & C\n",
    "\\end{eqnarray}\n",
    "$"
   ]
  },
  {
   "cell_type": "markdown",
   "metadata": {},
   "source": [
    "$\\boldsymbol{r}$ は原点中心に向かうベクトルなので、$\\boldsymbol{r} \\cdot \\boldsymbol{n} = -r$ より"
   ]
  },
  {
   "cell_type": "markdown",
   "metadata": {},
   "source": [
    "$\n",
    "\\begin{eqnarray}\n",
    "\\int_{V} \\Delta \\left( \\frac{1}{r} \\right) dV \n",
    "& = &\n",
    "\\int_{S2} \\frac{\\boldsymbol{r}}{r^3} \\cdot \\boldsymbol{n}dS\n",
    "\\\\\n",
    "& = &\n",
    "-\\int_{S2} \\frac{r}{r^3} dS\n",
    "\\\\\n",
    "& = &\n",
    "-\\oint_{S2(|r|=R_0)} \\frac{1}{R_0^2} dS = -\\frac{1}{R_0^2} \\oint_{S2(|r|=R_0)} dS\n",
    "\\\\\n",
    "& = & -\\frac{4 \\pi R_0^2}{R_0^2} = -4 \\pi\n",
    "\\\\\n",
    "\\therefore \\int_V \\nabla^2 \\left( \\frac{1}{r} \\right) dV & = & -4\\pi, \\ r = 0\n",
    "\\end{eqnarray}\n",
    "$"
   ]
  },
  {
   "cell_type": "markdown",
   "metadata": {},
   "source": [
    "デルタ関数の定義より"
   ]
  },
  {
   "cell_type": "markdown",
   "metadata": {},
   "source": [
    "$\n",
    "\\begin{eqnarray}\n",
    "\\nabla^2 \\left( \\frac{1}{r} \\right) & = & - 4 \\pi \\delta(\\boldsymbol{r})\n",
    "\\end{eqnarray}\n",
    "$"
   ]
  },
  {
   "cell_type": "markdown",
   "metadata": {},
   "source": [
    "・ベクトルポテンシャルに関するポアソン方程式 $\\Delta \\boldsymbol{A}= - \\mu_0 j \\Rightarrow \\boldsymbol{A}(\\boldsymbol{r}) = \\frac{\\mu_0}{4 \\pi} \\int \\frac{\\boldsymbol{j} \\ (\\boldsymbol{r}^\\prime)}{|\\boldsymbol{r}-\\boldsymbol{r}^\\prime|} dv^\\prime$について"
   ]
  },
  {
   "cell_type": "markdown",
   "metadata": {},
   "source": [
    "$\n",
    "\\begin{eqnarray}\n",
    "\\Delta \\boldsymbol{A} & = & \\nabla^2 \\boldsymbol{A} \n",
    "= \\nabla^2 \\frac{\\mu_0}{4\\pi} \\int \\frac{\\boldsymbol{j} \\ (\\boldsymbol{r}^\\prime)}\n",
    "{|\\boldsymbol{r}-\\boldsymbol{r}^\\prime|}dv^\\prime\n",
    "\\\\\n",
    "& = & \\frac{\\mu_0}{4\\pi} \\int \\nabla^2 \\frac{\\boldsymbol{j} \\ (\\boldsymbol{r}^\\prime)}{|\\boldsymbol{r}-\\boldsymbol{r}^\\prime|} dv^\\prime\n",
    "\\\\\n",
    "& = & \\frac{\\mu_0}{4\\pi} \\int \\boldsymbol{j} \\ (\\boldsymbol{r}^\\prime)  \\nabla^2 \\frac{1}{|\\boldsymbol{r}-\\boldsymbol{r}^\\prime|} dv^\\prime\n",
    "\\end{eqnarray}\n",
    "$"
   ]
  },
  {
   "cell_type": "markdown",
   "metadata": {},
   "source": [
    "超関数 $\\nabla^2 \\frac{1}{|\\boldsymbol{r}-\\boldsymbol{r}^\\prime|} = -4\\pi \\delta(\\boldsymbol{r}-\\boldsymbol{r}^\\prime)$、\n",
    "デルタ関数の定義 $\\int f(x) \\delta(0) dx = f(0)$ より"
   ]
  },
  {
   "cell_type": "markdown",
   "metadata": {},
   "source": [
    "$\n",
    "\\begin{eqnarray}\n",
    "\\ \\ & = & \\frac{\\mu_0}{4\\pi} \\left[ \\boldsymbol{j} \\ (\\boldsymbol{r}^\\prime = \\boldsymbol{r}) (-4\\pi) \\right] = -\\mu_0 \\boldsymbol{j} \\ (\\boldsymbol{r})\n",
    "\\end{eqnarray}\n",
    "$"
   ]
  },
  {
   "cell_type": "markdown",
   "metadata": {},
   "source": [
    "### Biot-Savart方程式"
   ]
  },
  {
   "cell_type": "markdown",
   "metadata": {},
   "source": [
    "$\n",
    "\\begin{eqnarray}\n",
    "B(\\boldsymbol{r}) = \\nabla \\times A & = &\n",
    "\\nabla \\times \\frac{\\mu_0}{4\\pi} \\int \\frac{\\boldsymbol{j} \\ (\\boldsymbol{r}^\\prime)}{|\\boldsymbol{r}-\\boldsymbol{r}^\\prime|} dv^\\prime\n",
    "\\\\\n",
    "& = & \\frac{\\mu_0}{4\\pi} \\int \\nabla \\times  \\frac{\\boldsymbol{j} \\ (\\boldsymbol{r}^\\prime)}{|\\boldsymbol{r}-\\boldsymbol{r}^\\prime|} dv^\\prime\n",
    "\\end{eqnarray}\n",
    "$"
   ]
  },
  {
   "cell_type": "markdown",
   "metadata": {},
   "source": [
    "$A(\\boldsymbol{r})$ を定数ベクトル、$f(\\boldsymbol{r})$ をスカラー関数としたとき"
   ]
  },
  {
   "cell_type": "markdown",
   "metadata": {},
   "source": [
    "$\n",
    "\\begin{eqnarray}\n",
    "\\nabla \\times \\left[f(\\boldsymbol{r}) \\ A \\right] = f(\\boldsymbol{r}) \\nabla \\times A + \\nabla f(\\boldsymbol{r}) \\times A\n",
    "= \\nabla f(\\boldsymbol{r}) \\times A, \\ \\because (\\nabla \\times A = 0)\n",
    "\\end{eqnarray}\n",
    "$"
   ]
  },
  {
   "cell_type": "markdown",
   "metadata": {},
   "source": [
    "より"
   ]
  },
  {
   "cell_type": "markdown",
   "metadata": {},
   "source": [
    "$\n",
    "\\begin{eqnarray}\n",
    "\\nabla \\times \\frac{\\boldsymbol{j} \\ (\\boldsymbol{r})}{|\\boldsymbol{r}-\\boldsymbol{r}^\\prime|}\n",
    "= \\nabla \\frac{1}{|\\boldsymbol{r}-\\boldsymbol{r}^\\prime|} \\times \\boldsymbol{j} \\ (\\boldsymbol{r}) \n",
    "= -\\frac{\\boldsymbol{r}-\\boldsymbol{r}^\\prime}{|\\boldsymbol{r} - \\boldsymbol{r}^\\prime|^3} \\times \\boldsymbol{j} \\ (\\boldsymbol{r}^\\prime) \n",
    "= \\boldsymbol{j} \\ (\\boldsymbol{r}^\\prime) \\times \\frac{\\boldsymbol{r}-\\boldsymbol{r}^\\prime}{|\\boldsymbol{r} - \\boldsymbol{r}^\\prime|^3}\n",
    "\\end{eqnarray}\n",
    "$"
   ]
  },
  {
   "cell_type": "markdown",
   "metadata": {},
   "source": [
    "したがって"
   ]
  },
  {
   "cell_type": "markdown",
   "metadata": {},
   "source": [
    "$\n",
    "\\begin{eqnarray}\n",
    "B(\\boldsymbol{r}) & = & \\frac{\\mu_0}{4\\pi} \\int \\frac{\\boldsymbol{j} \\ (\\boldsymbol{r^\\prime}) \\times (\\boldsymbol{r}-\\boldsymbol{r}^\\prime)}{|\\boldsymbol{r}-\\boldsymbol{r}^\\prime|^3} dv^\\prime\n",
    "\\\\\n",
    "u(\\boldsymbol{r}) & = & \\frac{1}{4\\pi} \\int \\frac{\\boldsymbol{w} \\ (\\boldsymbol{r^\\prime}) \\times (\\boldsymbol{r}-\\boldsymbol{r}^\\prime)}{|\\boldsymbol{r}-\\boldsymbol{r}^\\prime|^3} dv^\\prime\n",
    "\\end{eqnarray}\n",
    "$"
   ]
  },
  {
   "cell_type": "markdown",
   "metadata": {},
   "source": [
    "### スカラーポテンシャルに関するポアソン方程式 $\\Delta \\phi = -\\frac{\\rho}{\\epsilon}\n",
    "\\Rightarrow \\phi(\\boldsymbol{r}) = \n",
    "\\frac{1}{4\\pi \\epsilon} \\int \\frac{\\rho(\\boldsymbol{r}^\\prime) (\\boldsymbol{r}-\\boldsymbol{r}^\\prime)}{|\\boldsymbol{r}-\\boldsymbol{r}^\\prime|^3}dv^\\prime$について"
   ]
  },
  {
   "cell_type": "markdown",
   "metadata": {},
   "source": [
    "### 電磁場中$(\\phi,\\boldsymbol{A})$の荷電粒子$+e$のラグランジアン ⇒ ローレンツ力 $\\boldsymbol{F}=q (\\boldsymbol{E} + \\boldsymbol{v} \\times \\boldsymbol{B})$ ⇒ ラグランジアンについて"
   ]
  },
  {
   "cell_type": "markdown",
   "metadata": {},
   "source": [
    "$\n",
    "\\begin{eqnarray}\n",
    "L = \\frac{1}{2}m\\boldsymbol{v}^2 - e \\phi + \\frac{e}{c} \\boldsymbol{v}\\cdot \\boldsymbol{A}\n",
    "\\end{eqnarray}\n",
    "$"
   ]
  },
  {
   "cell_type": "markdown",
   "metadata": {},
   "source": [
    "$x$成分に対する一般化正準運動量は"
   ]
  },
  {
   "cell_type": "markdown",
   "metadata": {},
   "source": [
    "$\n",
    "\\begin{eqnarray}\n",
    "P_x = \\frac{\\partial L}{\\partial v_x} = mv_x + \\frac{e}{c}A_x\n",
    "\\end{eqnarray}\n",
    "$"
   ]
  },
  {
   "cell_type": "markdown",
   "metadata": {},
   "source": [
    "$x$成分に対する一般化力は"
   ]
  },
  {
   "cell_type": "markdown",
   "metadata": {},
   "source": [
    "$\n",
    "\\begin{eqnarray}\n",
    "\\frac{\\partial L}{\\partial x} = -e \\frac{\\partial \\phi}{\\partial x} + \\frac{e}{c} \\left[\n",
    "v_x \\frac{\\partial A_x}{\\partial x} + v_y \\frac{\\partial A_y}{\\partial x} + v_z \\frac{\\partial A_z}{\\partial x}\n",
    "\\right]\n",
    "\\end{eqnarray}\n",
    "$"
   ]
  },
  {
   "cell_type": "markdown",
   "metadata": {},
   "source": [
    "$x$成分に対するEL方程式は"
   ]
  },
  {
   "cell_type": "markdown",
   "metadata": {},
   "source": [
    "$\n",
    "\\begin{eqnarray}\n",
    "\\frac{d p_x}{d t} = \\frac{\\partial L}{\\partial x}\n",
    "\\end{eqnarray}\n",
    "$"
   ]
  },
  {
   "cell_type": "markdown",
   "metadata": {},
   "source": [
    "となり、"
   ]
  },
  {
   "cell_type": "markdown",
   "metadata": {},
   "source": [
    "$\n",
    "\\begin{eqnarray}\n",
    "\\frac{d}{dt} \\left(\n",
    "mv_x + \\frac{e}{c}A_x\n",
    "\\right) =\n",
    "-e\\frac{\\partial \\phi}{\\partial x}\n",
    "+ \\frac{e}{c} \\left[\n",
    "v_x \\frac{\\partial A_x}{\\partial x} + v_y \\frac{\\partial A_y}{\\partial x} + v_z \\frac{\\partial A_z}{\\partial x}\n",
    "\\right]\n",
    "\\end{eqnarray}\n",
    "$"
   ]
  },
  {
   "cell_type": "markdown",
   "metadata": {},
   "source": [
    "荷電粒子$+e$の運動に沿った変化によるベクトルポテンシャル $A_x (t, x, y, z)$ の変化は"
   ]
  },
  {
   "cell_type": "markdown",
   "metadata": {},
   "source": [
    "$\n",
    "\\begin{eqnarray}\n",
    "d A_x & = & \\frac{\\partial A_x}{\\partial t}dt + \\frac{\\partial A_x}{\\partial x}dx + \\frac{\\partial A_y}{\\partial x}dy + \\frac{\\partial A_x}{\\partial z}dz\n",
    "\\\\\n",
    "d A_x & = & \\frac{\\partial A_x}{\\partial t}dt + \\left[\n",
    "\\frac{\\partial A_x}{\\partial x} v_x + \\frac{\\partial A_x}{\\partial y} v_y + \\frac{\\partial A_x}{\\partial z} v_z\n",
    "\\right] dt\n",
    "\\\\\n",
    "\\frac{d A_x}{dt} & = & \\frac{\\partial A_x}{\\partial t} + v_x \\frac{\\partial A_x}{\\partial x} + v_y \\frac{\\partial A_x}{\\partial y} + v_z \\frac{\\partial A_x}{\\partial z}\n",
    "\\end{eqnarray}\n",
    "$"
   ]
  },
  {
   "cell_type": "markdown",
   "metadata": {},
   "source": [
    "よって"
   ]
  },
  {
   "cell_type": "markdown",
   "metadata": {},
   "source": [
    "$\n",
    "\\begin{eqnarray}\n",
    "\\frac{d}{dt} \\left(\n",
    "mv_x + \\frac{e}{c}A_x\n",
    "\\right) & = & \\frac{d}{dt} mv_x + \\frac{e}{c} \\frac{d A_x}{dt}\n",
    "\\\\\n",
    "& = & \n",
    "-e\\frac{\\partial \\phi}{\\partial x}\n",
    "+ \\frac{e}{c} \\left[\n",
    "v_x \\frac{\\partial A_x}{\\partial x} + v_y \\frac{\\partial A_y}{\\partial x} + v_z \\frac{\\partial A_z}{\\partial x}\n",
    "\\right]\n",
    "\\end{eqnarray}\n",
    "$"
   ]
  },
  {
   "cell_type": "markdown",
   "metadata": {},
   "source": [
    "$\n",
    "\\begin{eqnarray}\n",
    "\\frac{d}{dt} mv_x & = & - \\frac{e}{c} \\frac{d A_x}{dt} - e \\frac{\\partial \\phi}{\\partial x}\n",
    "+ \\frac{e}{c} \\left[\n",
    "v_x \\frac{\\partial A_x}{\\partial x} + v_y \\frac{\\partial A_y}{\\partial x} + v_z \\frac{\\partial A_z}{\\partial x}\n",
    "\\right]\n",
    "\\\\\n",
    "& = & - \\frac{e}{c} \\left[\n",
    "\\frac{\\partial A_x}{\\partial t} + v_x \\frac{\\partial A_x}{\\partial x} + v_y \\frac{\\partial A_x}{\\partial y} + v_z \\frac{\\partial A_x}{\\partial z}\n",
    "\\right] - e \\frac{\\partial \\phi}{\\partial x}\n",
    "+ \\frac{e}{c} \\left[\n",
    "v_x \\frac{\\partial A_x}{\\partial x} + v_y \\frac{\\partial A_y}{\\partial x} + v_z \\frac{\\partial A_z}{\\partial x}\n",
    "\\right]\n",
    "\\\\\n",
    "& = &  - e \\frac{\\partial \\phi}{\\partial x}- \\frac{e}{c}\\frac{\\partial A_x}{\\partial t}\n",
    "+ \\frac{e}{c} \\left[\n",
    "v_y \\left( \\frac{\\partial A_y}{\\partial x} - \\frac{\\partial A_x}{\\partial y} \\right)\n",
    "- v_z \\left( \\frac{\\partial A_x}{\\partial z} - \\frac{\\partial A_z}{\\partial x} \\right)\n",
    "\\right]\n",
    "\\end{eqnarray}\n",
    "$"
   ]
  },
  {
   "cell_type": "markdown",
   "metadata": {},
   "source": [
    "電磁場中のポテンシャル表現"
   ]
  },
  {
   "cell_type": "markdown",
   "metadata": {},
   "source": [
    "$\n",
    "\\begin{eqnarray}\n",
    "\\boldsymbol{E} & = & -\\nabla \\phi -\\frac{1}{c}\\frac{\\partial \\boldsymbol{A}}{\\partial t}\n",
    "\\\\\n",
    "\\boldsymbol{B} & = & \\nabla \\times \\boldsymbol{A}\n",
    "\\end{eqnarray}\n",
    "$"
   ]
  },
  {
   "cell_type": "markdown",
   "metadata": {},
   "source": [
    "を用いて書き換えると"
   ]
  },
  {
   "cell_type": "markdown",
   "metadata": {},
   "source": [
    "$\n",
    "\\begin{eqnarray}\n",
    "m \\frac{d v_x}{d t} = e E_x + \\frac{e}{c}\\left(\n",
    "\\boldsymbol{v} \\times \\boldsymbol{B}\n",
    "\\right)_x\n",
    "\\end{eqnarray}\n",
    "$"
   ]
  },
  {
   "cell_type": "markdown",
   "metadata": {},
   "source": [
    "$y$成分、$z$成分も同様にして、ローレンツ力を得る。"
   ]
  },
  {
   "cell_type": "markdown",
   "metadata": {},
   "source": [
    "$\n",
    "\\begin{eqnarray}\n",
    "m \\frac{d \\boldsymbol{v}}{dt} = e \\left[\n",
    "\\boldsymbol{E} + \\left( \\boldsymbol{v} \\times \\boldsymbol{B} \\right)\n",
    "\\right]\n",
    "\\end{eqnarray}\n",
    "$, [q.e.d]"
   ]
  },
  {
   "cell_type": "markdown",
   "metadata": {},
   "source": [
    "Newton's 2nd lawから、運動方程式は一般化座標$q$を用いると"
   ]
  },
  {
   "cell_type": "markdown",
   "metadata": {},
   "source": [
    "$\n",
    "\\begin{eqnarray}\n",
    "F = m \\frac{d^2 q}{dt^2}\n",
    "\\end{eqnarray}\n",
    "$"
   ]
  },
  {
   "cell_type": "markdown",
   "metadata": {},
   "source": [
    "運動エネルギー$K$について、一般化座標$q$を用いると"
   ]
  },
  {
   "cell_type": "markdown",
   "metadata": {},
   "source": [
    "$\n",
    "\\begin{eqnarray}\n",
    "K = \\frac{1}{2} m \\dot{q}^2\n",
    "\\end{eqnarray}\n",
    "$"
   ]
  },
  {
   "cell_type": "markdown",
   "metadata": {},
   "source": [
    "一般化運動量$p$は、"
   ]
  },
  {
   "cell_type": "markdown",
   "metadata": {},
   "source": [
    "$\n",
    "\\begin{eqnarray}\n",
    "p = \\frac{\\partial K}{\\partial \\dot{q}} = m \\dot{q}\n",
    "\\end{eqnarray}\n",
    "$"
   ]
  },
  {
   "cell_type": "markdown",
   "metadata": {},
   "source": [
    "一般化力$F$は、"
   ]
  },
  {
   "cell_type": "markdown",
   "metadata": {},
   "source": [
    "$\n",
    "\\begin{eqnarray}\n",
    "F = \\frac{d p}{d t} = \\frac{d}{dt}\\left( \\frac{\\partial K}{\\partial \\dot{q}} \\right) = m \\ddot{q}\n",
    "\\end{eqnarray}\n",
    "$"
   ]
  },
  {
   "cell_type": "markdown",
   "metadata": {},
   "source": [
    "ポテンシャルエネルギー$U$の勾配は一般化力であらわすことができ、"
   ]
  },
  {
   "cell_type": "markdown",
   "metadata": {},
   "source": [
    "$\n",
    "\\begin{eqnarray}\n",
    "F = -\\frac{\\partial U}{\\partial q}\n",
    "\\end{eqnarray}\n",
    "$"
   ]
  },
  {
   "cell_type": "markdown",
   "metadata": {},
   "source": [
    "すると運動方程式は"
   ]
  },
  {
   "cell_type": "markdown",
   "metadata": {},
   "source": [
    "$\n",
    "\\begin{eqnarray}\n",
    "F = \\frac{d}{dt} \\left( \\frac{\\partial K}{\\partial \\dot{q}} \\right) = - \\frac{\\partial U}{\\partial q}\n",
    "\\\\\n",
    "\\frac{d}{dt} \\left( \\frac{\\partial K}{\\partial \\dot{q}} \\right) + \\frac{\\partial U}{\\partial q} = 0\n",
    "\\end{eqnarray}\n",
    "$"
   ]
  },
  {
   "cell_type": "markdown",
   "metadata": {},
   "source": [
    "運動エネルギー$K$は一般化座標$q_i$に依存しないことから以下の事が言える。"
   ]
  },
  {
   "cell_type": "markdown",
   "metadata": {},
   "source": [
    "$\n",
    "\\begin{eqnarray}\n",
    "\\frac{\\partial K}{\\partial q_i} = 0\n",
    "\\end{eqnarray}\n",
    "$"
   ]
  },
  {
   "cell_type": "markdown",
   "metadata": {},
   "source": [
    "ポテンシャルエネルギー$U$は速度$\\dot{q}_i$に依存しないことから以下の事が言える。"
   ]
  },
  {
   "cell_type": "markdown",
   "metadata": {},
   "source": [
    "$\n",
    "\\begin{eqnarray}\n",
    "\\frac{d}{dt} \\left( \\frac{\\partial U}{\\partial \\dot{q}_i} \\right) = 0\n",
    "\\end{eqnarray}\n",
    "$"
   ]
  },
  {
   "cell_type": "markdown",
   "metadata": {},
   "source": [
    "よって"
   ]
  },
  {
   "cell_type": "markdown",
   "metadata": {},
   "source": [
    "$\n",
    "\\begin{eqnarray}\n",
    "\\frac{d}{dt} \\left( \\frac{\\partial K}{\\partial \\dot{q}_i} \\right) + \\frac{\\partial U}{\\partial q_i} = 0\n",
    "\\\\\n",
    "\\frac{d}{dt} \\left( \\frac{\\partial K}{\\partial \\dot{q}} \\right) - \\frac{d}{dt} \\left( \\frac{\\partial U}{\\partial \\dot{q}_i} \\right)\n",
    " + \\frac{\\partial U}{\\partial q_i} - \\frac{\\partial K}{\\partial q_i} = 0\n",
    "\\\\\n",
    "\\frac{d}{dt} \\left( \\frac{\\partial (K-U) }{\\partial \\dot{q}_i}\\right)\n",
    "+ \\frac{\\partial (U-K)}{\\partial q_i} = 0\n",
    "\\\\\n",
    "\\frac{\\partial (K-U)}{\\partial q_i}\n",
    "- \\frac{d}{dt} \\left( \\frac{\\partial (K-U) }{\\partial \\dot{q}_i}\\right)\n",
    "= 0\n",
    "\\\\\n",
    "\\because L = K - U\n",
    "\\\\\n",
    "\\frac{\\partial L}{\\partial q_i}\n",
    "- \\frac{d}{dt} \\left( \\frac{\\partial L }{\\partial \\dot{q}_i}\\right)\n",
    "= 0\n",
    "\\end{eqnarray}\n",
    "$"
   ]
  },
  {
   "cell_type": "markdown",
   "metadata": {},
   "source": [
    "作用$S$は以下のように定義される。"
   ]
  },
  {
   "cell_type": "markdown",
   "metadata": {},
   "source": [
    "$\n",
    "\\begin{eqnarray}\n",
    "S = \\int^{t2}_{t1} L dt\n",
    "\\end{eqnarray}\n",
    "$"
   ]
  },
  {
   "cell_type": "markdown",
   "metadata": {},
   "source": [
    "また、$\\frac{\\partial (K-U)}{\\partial q_i}\n",
    "- \\frac{d}{dt} \\left( \\frac{\\partial (K-U) }{\\partial \\dot{q}_i}\\right)\n",
    "= 0$と$\\frac{\\partial K}{\\partial q_i}=0$ から"
   ]
  },
  {
   "cell_type": "markdown",
   "metadata": {},
   "source": [
    "$\n",
    "\\begin{eqnarray}\n",
    "-\\frac{\\partial U}{\\partial q_i}\n",
    "- \\frac{d}{dt} \\left( \\frac{\\partial (K-U) }{\\partial \\dot{q}_i}\\right)\n",
    "= 0\n",
    "\\\\\n",
    "\\frac{d}{dt}\\left( \\frac{\\partial k}{\\partial \\dot{q}_i} \\right) =\n",
    "\\frac{d}{dt}\\left( \\frac{\\partial U}{\\partial \\dot{q}_i} \\right) - \\frac{\\partial U}{\\partial q_i}\n",
    "\\\\\n",
    "\\boldsymbol{F} =\n",
    "\\frac{d}{dt}\\left( \\frac{\\partial U}{\\partial \\dot{q}_i} \\right) - \\frac{\\partial U}{\\partial q_i}\n",
    "\\end{eqnarray}\n",
    "$"
   ]
  },
  {
   "cell_type": "markdown",
   "metadata": {},
   "source": [
    "を満たす$U(q, \\dot{q})$を一般化ポテンシャルという。"
   ]
  },
  {
   "cell_type": "markdown",
   "metadata": {},
   "source": [
    "電磁場中のポテンシャル表現"
   ]
  },
  {
   "cell_type": "markdown",
   "metadata": {},
   "source": [
    "$\n",
    "\\begin{eqnarray}\n",
    "\\boldsymbol{E} & = & -\\nabla \\phi -\\frac{1}{c}\\frac{\\partial \\boldsymbol{A}}{\\partial t}\n",
    "\\\\\n",
    "\\boldsymbol{B} & = & \\nabla \\times \\boldsymbol{A}\n",
    "\\end{eqnarray}\n",
    "$"
   ]
  },
  {
   "cell_type": "markdown",
   "metadata": {},
   "source": [
    "から、ベクトル解析のベクトル三重積の公式 $v \\times (\\nabla \\times A) = \\nabla(v \\cdot A) - (v \\cdot \\nabla)A$ を用いると"
   ]
  },
  {
   "cell_type": "markdown",
   "metadata": {},
   "source": [
    "$\n",
    "\\begin{eqnarray}\n",
    "\\boldsymbol{F} & = & e \\left[ \\boldsymbol{E} + \\frac{1}{c}(\\boldsymbol{v} \\times \\boldsymbol{B}) \\right]\n",
    "\\\\\n",
    "& = & e \\left[\n",
    "-\\frac{1}{c}\\frac{\\partial A}{\\partial t} - \\nabla \\phi + \\frac{1}{c} v \\times (\\nabla \\times A)\n",
    "\\right]\n",
    "\\\\\n",
    "& = & e \\left[\n",
    "-\\frac{1}{c}\\frac{\\partial A}{\\partial t} - \\nabla \\phi \n",
    "+ \\nabla \\left(\\frac{1}{c}v \\cdot A \\right)\n",
    "- \\left(\\frac{1}{c}v \\cdot \\nabla \\right)A\n",
    "\\right]\n",
    "\\\\\n",
    "& = & e \\left[\n",
    "- \\nabla \\left( \\phi - \\frac{1}{c} v \\cdot A \\right)\n",
    "- \\frac{1}{c}\\frac{\\partial A}{\\partial t}\n",
    "- \\left( \\frac{1}{c}v \\cdot \\nabla \\right) A\n",
    "\\right]\n",
    "\\end{eqnarray}\n",
    "$"
   ]
  },
  {
   "cell_type": "markdown",
   "metadata": {},
   "source": [
    "合成関数の微分 $\\frac{d A}{dt}=\\left(\\frac{dx}{dt}\\cdot \\nabla \\right) + \\frac{\\partial A}{\\partial t}$ から"
   ]
  },
  {
   "cell_type": "markdown",
   "metadata": {},
   "source": [
    "$\n",
    "\\begin{eqnarray}\n",
    "F = e \\left[\n",
    "-\\nabla \\left( \\phi - \\frac{1}{c}v \\cdot A \\right) - \\frac{1}{c}\\frac{d A}{dt}\n",
    "\\right]\n",
    "\\end{eqnarray}\n",
    "$"
   ]
  },
  {
   "cell_type": "markdown",
   "metadata": {},
   "source": [
    "一般化ポテンシャルによる力の式 $\\boldsymbol{F} =\n",
    "\\frac{d}{dt}\\left( \\frac{\\partial U}{\\partial \\dot{q}_i} \\right) - \\frac{\\partial U}{\\partial q_i}$ とくらべると、ポテンシャル$U$は、"
   ]
  },
  {
   "cell_type": "markdown",
   "metadata": {},
   "source": [
    "$\n",
    "\\begin{eqnarray}\n",
    "U = e \\left(\\phi -  \\frac{1}{c}\\boldsymbol{v} \\cdot \\boldsymbol{A} \\right)\n",
    "\\end{eqnarray}\n",
    "$"
   ]
  },
  {
   "cell_type": "markdown",
   "metadata": {},
   "source": [
    "スカラーポテンシャル$\\phi$、ベクトルポテンシャル$A$は、速度に依存しないから実際、求めてみると"
   ]
  },
  {
   "cell_type": "markdown",
   "metadata": {},
   "source": [
    "$\n",
    "\\begin{eqnarray}\n",
    "\\frac{d}{dt} \\left( \\frac{\\partial U}{\\partial \\dot{q}_i} \\right) = \n",
    "\\frac{d}{dt} \\left[\n",
    "\\frac{\\partial}{\\partial \\dot{q}_i} ( \\phi - \\frac{1}{c} v \\cdot A)\n",
    "\\right] = -\\frac{1}{c} \\frac{d A}{dt}\n",
    "\\end{eqnarray}\n",
    "$"
   ]
  },
  {
   "cell_type": "markdown",
   "metadata": {},
   "source": [
    "よってラグランジアン$L$は、"
   ]
  },
  {
   "cell_type": "markdown",
   "metadata": {},
   "source": [
    "$\n",
    "\\begin{eqnarray}\n",
    "L = K-U = \\frac{1}{2}m\\boldsymbol{v}^2 - e \\phi + \\frac{e}{c} \\boldsymbol{v}\\cdot \\boldsymbol{A}\n",
    "\\end{eqnarray}\n",
    "$"
   ]
  },
  {
   "cell_type": "markdown",
   "metadata": {},
   "source": [
    "### tensorflow practice"
   ]
  },
  {
   "cell_type": "code",
   "execution_count": 1,
   "metadata": {},
   "outputs": [
    {
     "name": "stdout",
     "output_type": "stream",
     "text": [
      "b'test'\n",
      "8\n"
     ]
    }
   ],
   "source": [
    "import tensorflow as tf\n",
    "import multiprocessing as mp\n",
    "core_num = mp.cpu_count()\n",
    "config = tf.ConfigProto(\n",
    "        inter_op_parallelism_threads=core_num,\n",
    "        intra_op_parallelism_threads=core_num\n",
    "    )\n",
    "sess = tf.Session(config=config)\n",
    "    \n",
    "test = tf.constant('test')\n",
    "print(sess.run(test))\n",
    "    \n",
    "a = tf.constant(3)\n",
    "b = tf.constant(5)\n",
    "print(sess.run(a + b))"
   ]
  },
  {
   "cell_type": "markdown",
   "metadata": {},
   "source": [
    "### keras practice"
   ]
  },
  {
   "cell_type": "code",
   "execution_count": 2,
   "metadata": {},
   "outputs": [
    {
     "name": "stderr",
     "output_type": "stream",
     "text": [
      "Using TensorFlow backend.\n"
     ]
    },
    {
     "name": "stdout",
     "output_type": "stream",
     "text": [
      "Downloading data from https://s3.amazonaws.com/img-datasets/mnist.npz\n",
      "11493376/11490434 [==============================] - 47s 4us/step\n",
      "Train on 54000 samples, validate on 6000 samples\n",
      "Epoch 1/3\n",
      "54000/54000 [==============================] - 3s 61us/step - loss: 2.1071 - acc: 0.4385 - val_loss: 1.8798 - val_acc: 0.7185\n",
      "Epoch 2/3\n",
      "54000/54000 [==============================] - 2s 44us/step - loss: 1.7187 - acc: 0.7084 - val_loss: 1.5171 - val_acc: 0.7813\n",
      "Epoch 3/3\n",
      "54000/54000 [==============================] - 2s 45us/step - loss: 1.4113 - acc: 0.7662 - val_loss: 1.2359 - val_acc: 0.8235\n",
      "10000/10000 [==============================] - 0s 42us/step\n",
      "\n",
      "test accuracy :  0.7982\n"
     ]
    }
   ],
   "source": [
    "# https://qiita.com/sasayabaku/items/64a01363bcd5c44feb0b\n",
    "# encoding: utf-8\n",
    "\n",
    "from keras.datasets import mnist\n",
    "from keras.models import Sequential\n",
    "from keras.layers.core import Dense, Activation\n",
    "from keras.utils import np_utils\n",
    "\n",
    "# kerasのMNISTデータの取得\n",
    "\n",
    "(X_train, y_train), (X_test, y_test) = mnist.load_data()\n",
    "\n",
    "\n",
    "# 配列の整形と，色の範囲を0-255 -> 0-1に変換\n",
    "X_train = X_train.reshape(60000, 784) / 255\n",
    "X_test = X_test.reshape(10000, 784) / 255\n",
    "\n",
    "\n",
    "# 正解ラベルをダミー変数に変換\n",
    "y_train = np_utils.to_categorical(y_train)\n",
    "y_test = np_utils.to_categorical(y_test)\n",
    "\n",
    "# ネットワークの定義\n",
    "\n",
    "model = Sequential([\n",
    "        Dense(512, input_shape=(784,)),\n",
    "        Activation('sigmoid'),\n",
    "        Dense(10),\n",
    "        Activation('softmax')\n",
    "        ])\n",
    "\n",
    "# 損失関数，最適化アルゴリズムなどの設定 + モデルのコンパイルを行う\n",
    "model.compile(loss='categorical_crossentropy', optimizer='sgd', metrics=['accuracy'])\n",
    "\n",
    "# 学習処理の実行 -> 変数histに進捗の情報が格納される\n",
    "# validation_split=0.1 ---> 0.1(10%)の訓練データが交差検証に使われる\n",
    "hist = model.fit(X_train, y_train, batch_size=200, verbose=1, epochs=3, validation_split=0.1)\n",
    "\n",
    "# 予測\n",
    "score = model.evaluate(X_test, y_test, verbose=1)\n",
    "print(\"\")\n",
    "print('test accuracy : ', score[1])"
   ]
  },
  {
   "cell_type": "code",
   "execution_count": 4,
   "metadata": {},
   "outputs": [
    {
     "data": {
      "image/png": "[encoded data removed]",
      "text/plain": [
       "<Figure size 432x288 with 1 Axes>"
      ]
     },
     "metadata": {
      "needs_background": "light"
     },
     "output_type": "display_data"
    }
   ],
   "source": [
    "import matplotlib.pyplot as plt\n",
    "loss = hist.history['loss']\n",
    "val_loss = hist.history['val_loss']\n",
    "\n",
    "# lossのグラフ\n",
    "plt.plot(range(3), loss, marker='.', label='loss')\n",
    "plt.plot(range(3), val_loss, marker='.', label='val_loss')\n",
    "plt.legend(loc='best', fontsize=10)\n",
    "plt.grid()\n",
    "plt.xlabel('epoch')\n",
    "plt.ylabel('loss')\n",
    "plt.show()"
   ]
  },
  {
   "cell_type": "markdown",
   "metadata": {},
   "source": [
    "### 作用$S$によるSchodinger方程式"
   ]
  },
  {
   "cell_type": "markdown",
   "metadata": {},
   "source": [
    "$\n",
    "\\begin{eqnarray}\n",
    "S & = & k \\ln W \n",
    "\\\\\n",
    "& = & -k \\ln P\n",
    "\\\\\n",
    "& = &  -K\\ln \\Psi\n",
    "\\\\\n",
    "p = \\nabla S & = & \\frac{\\partial S}{\\partial x} = -K\\frac{1}{\\Psi} \\frac{\\partial \\Psi}{\\partial x}\n",
    "\\end{eqnarray}\n",
    "$"
   ]
  },
  {
   "cell_type": "markdown",
   "metadata": {},
   "source": [
    "$\n",
    "\\begin{eqnarray}\n",
    "\\frac{p^2}{2m} + V =E\n",
    "\\\\\n",
    "\\frac{1}{2m} \\left(  -K\\frac{1}{\\Psi} \\frac{\\partial \\Psi}{\\partial x} \\right)^2 + (V-E) = 0\n",
    "\\\\\n",
    "\\frac{K^2}{2m} \\left(\\frac{\\partial \\Psi}{\\partial x}\\right)^2 + (V-E)\\Psi^2 = 0\n",
    "\\end{eqnarray}\n",
    "$"
   ]
  },
  {
   "cell_type": "markdown",
   "metadata": {},
   "source": [
    "$L=\\frac{K^2}{2m} \\left( \\frac{\\partial \\Psi}{\\partial x} \\right)^2 + (V-E)\\Psi^2$とおき、変分をとる"
   ]
  },
  {
   "cell_type": "markdown",
   "metadata": {},
   "source": [
    "$\n",
    "\\begin{eqnarray}\n",
    "L(\\Phi,\\Psi) & = & \\frac{K^2}{2m} \\phi^2 + (V-E)\\Psi^2, \\ \\Phi = \\frac{\\partial \\Psi}{\\partial x}\n",
    "\\\\\n",
    "\\delta L(\\Phi, \\Psi) & = & \\frac{\\partial L}{\\partial \\Phi} \\delta \\Phi + \\frac{\\partial L}{\\partial \\Psi} \\delta \\Psi, \\ \\delta \\Phi = \\delta \\left( \\frac{\\partial \\Psi}{\\partial x} \\right) \n",
    "\\end{eqnarray}\n",
    "$"
   ]
  },
  {
   "cell_type": "markdown",
   "metadata": {},
   "source": [
    "部分積分でオイラー・ラグランジェの式をつくる"
   ]
  },
  {
   "cell_type": "markdown",
   "metadata": {},
   "source": [
    "$\n",
    "\\begin{eqnarray}\n",
    "\\int \\delta L dx = 0\n",
    "\\end{eqnarray}\n",
    "$"
   ]
  },
  {
   "cell_type": "markdown",
   "metadata": {},
   "source": [
    "$\n",
    "\\begin{eqnarray}\n",
    "\\int \\delta L dx & = & \\int_a^b \\left[\n",
    "\\frac{\\partial L}{\\partial \\Phi} \\delta \\Phi + \\frac{\\partial L}{\\partial \\Psi} \\delta \\Psi\n",
    "\\right] dx = 0\n",
    "\\\\\n",
    "& = & \\int_a^b \\frac{\\partial L}{\\partial \\Phi} \\delta \\left( \\frac{\\partial \\Psi}{\\partial x} \\right) dx  \n",
    "+ \\int_a^b \\frac{\\partial L}{\\partial \\Psi} \\delta \\Psi dx = 0\n",
    "\\\\\n",
    "& = & \\int_a^b \\frac{\\partial L}{\\partial \\Phi} \\left( \\frac{\\partial}{\\partial x} \\right) \\delta \\Psi dx  \n",
    "+ \\int_a^b \\frac{\\partial L}{\\partial \\Psi} \\delta \\Psi dx = 0\n",
    "\\\\\n",
    "& = & \\left[ \\frac{\\partial L}{\\partial \\Phi} \\delta \\Psi \\right]_a^b\n",
    "- \\int_a^b \\frac{\\partial}{\\partial x} \\left( \\frac{\\partial L}{\\partial \\Phi} \\right) \\delta \\Psi dx \n",
    "+ \\int_a^b \\frac{\\partial L}{\\partial \\Psi} \\delta \\Psi dx = 0\n",
    "\\\\\n",
    "& = & 0\n",
    "- \\int_a^b \\frac{\\partial}{\\partial x} \\left( \\frac{\\partial L}{\\partial \\Phi} \\right) \\delta \\Psi dx \n",
    "+ \\int_a^b \\frac{\\partial L}{\\partial \\Psi} \\delta \\Psi dx = 0\n",
    "\\\\\n",
    "& = & \\int_a^b \\left [\n",
    "\\frac{\\partial L }{\\partial \\Psi}\n",
    "- \\frac{\\partial}{\\partial x} \\left( \\frac{\\partial L}{\\partial \\Phi} \\right)\n",
    "\\right] \\delta \\Psi dx = 0\n",
    "\\end{eqnarray}\n",
    "$"
   ]
  },
  {
   "cell_type": "markdown",
   "metadata": {},
   "source": [
    "$\n",
    "\\begin{eqnarray}\n",
    "\\therefore \\frac{\\partial L }{\\partial \\Psi} - \\frac{\\partial}{\\partial x} \\left( \\frac{\\partial L}{\\partial \\Phi} \\right) = 0\n",
    "\\\\\n",
    "L=\\frac{K^2}{2m} \\Phi^2 + (V-E)\\Psi^2\n",
    "\\\\\n",
    "\\frac{\\partial L}{\\partial \\Psi} = 2\\Psi(V - E)\n",
    "\\\\\n",
    "\\frac{\\partial L}{\\partial \\Phi} = \\frac{K^2}{2m}2\\Phi = \\frac{K^2}{m} \\frac{\\partial \\Psi}{\\partial x}\n",
    "\\\\\n",
    "2\\Psi(V-E) - \\frac{\\partial}{\\partial x} \\frac{K^2}{m} \\frac{\\partial \\Psi}{\\partial x} = 0\n",
    "\\\\\n",
    "- \\frac{K^2}{2m} \\frac{\\partial^2}{\\partial x^2}\\Psi + (V-E)\\Psi = 0\n",
    "\\\\\n",
    "\\left[ - \\frac{K^2}{2m} \\frac{\\partial^2}{\\partial x^2} + V \\right] \\Psi = E \\Psi\n",
    "\\end{eqnarray}\n",
    "$"
   ]
  },
  {
   "cell_type": "markdown",
   "metadata": {},
   "source": [
    "$K=\\frac{h}{2\\pi} = \\hbar$として"
   ]
  },
  {
   "cell_type": "markdown",
   "metadata": {},
   "source": [
    "$\n",
    "\\begin{eqnarray}\n",
    "\\left[ - \\frac{\\hbar^2}{2m}\\nabla^2 + V \\right]\\Psi = E \\Psi\n",
    "\\end{eqnarray}\n",
    "$"
   ]
  },
  {
   "cell_type": "markdown",
   "metadata": {},
   "source": [
    "### WKB近似 （ハミルトン・ヤコビ方程式）"
   ]
  },
  {
   "cell_type": "markdown",
   "metadata": {},
   "source": [
    "### pythonによる二次元FFT/IFFT"
   ]
  },
  {
   "cell_type": "code",
   "execution_count": 1,
   "metadata": {},
   "outputs": [
    {
     "data": {
      "text/plain": [
       "array([[4., 0., 0., 0.],\n",
       "       [0., 4., 0., 0.],\n",
       "       [0., 0., 4., 0.],\n",
       "       [0., 0., 0., 4.]])"
      ]
     },
     "execution_count": 1,
     "metadata": {},
     "output_type": "execute_result"
    }
   ],
   "source": [
    "import numpy as np\n",
    "a = 4 * np.eye(4)\n",
    "b = np.fft.fft2(a)\n",
    "c = np.fft.ifft2(b)\n",
    "a"
   ]
  },
  {
   "cell_type": "code",
   "execution_count": 2,
   "metadata": {},
   "outputs": [
    {
     "data": {
      "text/plain": [
       "array([[16.+0.j,  0.+0.j,  0.+0.j,  0.-0.j],\n",
       "       [ 0.+0.j,  0.+0.j,  0.+0.j, 16.-0.j],\n",
       "       [ 0.+0.j,  0.+0.j, 16.+0.j,  0.-0.j],\n",
       "       [ 0.+0.j, 16.+0.j,  0.+0.j,  0.-0.j]])"
      ]
     },
     "execution_count": 2,
     "metadata": {},
     "output_type": "execute_result"
    }
   ],
   "source": [
    "b"
   ]
  },
  {
   "cell_type": "code",
   "execution_count": 3,
   "metadata": {},
   "outputs": [
    {
     "data": {
      "text/plain": [
       "array([[4.+0.j, 0.+0.j, 0.+0.j, 0.+0.j],\n",
       "       [0.+0.j, 4.+0.j, 0.+0.j, 0.+0.j],\n",
       "       [0.+0.j, 0.+0.j, 4.+0.j, 0.+0.j],\n",
       "       [0.+0.j, 0.+0.j, 0.+0.j, 4.+0.j]])"
      ]
     },
     "execution_count": 3,
     "metadata": {},
     "output_type": "execute_result"
    }
   ],
   "source": [
    "c"
   ]
  },
  {
   "cell_type": "code",
   "execution_count": null,
   "metadata": {},
   "outputs": [],
   "source": []
  }
 ],
 "metadata": {
  "kernelspec": {
   "display_name": "Python 3",
   "language": "python",
   "name": "python3"
  },
  "language_info": {
   "codemirror_mode": {
    "name": "ipython",
    "version": 3
   },
   "file_extension": ".py",
   "mimetype": "text/x-python",
   "name": "python",
   "nbconvert_exporter": "python",
   "pygments_lexer": "ipython3",
   "version": "3.7.4"
  }
 },
 "nbformat": 4,
 "nbformat_minor": 2
}
