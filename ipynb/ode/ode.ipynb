{
 "cells": [
  {
   "cell_type": "code",
   "execution_count": 1,
   "metadata": {},
   "outputs": [],
   "source": [
    "#https://github.com/kmkolasinski/deep-learning-notes/blob/master/seminars/2019-03-Neural-Ordinary-Differential-Equations/0.Implementing_black_box_solver.ipynb\n",
    "\n",
    "import numpy as np\n",
    "import matplotlib.pyplot as plt\n",
    "import matplotlib\n",
    "%matplotlib inline\n",
    "\n",
    "font = {'size'   : 20}\n",
    "matplotlib.rc('font', **font)"
   ]
  },
  {
   "cell_type": "code",
   "execution_count": 2,
   "metadata": {},
   "outputs": [],
   "source": [
    "def odeint(func, y0, t, solver):\n",
    "    Δts = t[1:] - t[:-1]\n",
    "    tk = t[0]\n",
    "    yk = y0\n",
    "    hist = [(tk, y0)]\n",
    "    for Δt in Δts:\n",
    "        yk = solver(Δt, tk, yk, func)\n",
    "        tk = tk + Δt\n",
    "        hist.append((tk, yk))\n",
    "    return hist"
   ]
  },
  {
   "cell_type": "code",
   "execution_count": 3,
   "metadata": {},
   "outputs": [],
   "source": [
    "import tensorflow as tf\n",
    "from tensorflow.keras.layers import Dense\n",
    "tf.enable_eager_execution()\n",
    "keras = tf.keras\n",
    "\n",
    "def midpoint_step_keras(Δt, tk, hk, fun):\n",
    "    k1 = fun([tk, hk])\n",
    "    k2 = fun([tk + Δt, hk + Δt * k1])\n",
    "    return hk + Δt * (k1 + k2) / 2\n",
    "\n",
    "class Module(keras.Model):\n",
    "    def __init__(self, nf):\n",
    "        super(Module, self).__init__()        \n",
    "        self.dense_1 = Dense(nf, activation='tanh')\n",
    "        self.dense_2 = Dense(nf, activation='tanh')\n",
    "\n",
    "    def call(self, inputs, **kwargs):\n",
    "        t, x = inputs\n",
    "        h = self.dense_1(x)\n",
    "        return self.dense_2(h) - 0.25 * x\n",
    "\n",
    "model = Module(2)\n"
   ]
  },
  {
   "cell_type": "code",
   "execution_count": 4,
   "metadata": {},
   "outputs": [],
   "source": [
    "t_grid = np.linspace(0, 500., 2000)\n",
    "h0 = tf.to_float([[1.0, -1.0]])\n",
    "model = Module(2)\n",
    "hist = odeint(model, h0, t_grid, midpoint_step_keras)"
   ]
  },
  {
   "cell_type": "code",
   "execution_count": 5,
   "metadata": {},
   "outputs": [],
   "source": [
    "h_hist = np.array([h.numpy()[0, :] for t, h in hist])"
   ]
  },
  {
   "cell_type": "code",
   "execution_count": 6,
   "metadata": {},
   "outputs": [
    {
     "data": {
      "text/plain": [
       "<matplotlib.legend.Legend at 0x1d9ec551a58>"
      ]
     },
     "execution_count": 6,
     "metadata": {},
     "output_type": "execute_result"
    },
    {
     "data": {
      "image/png": "[encoded data removed]",
      "text/plain": [
       "<Figure size 432x288 with 1 Axes>"
      ]
     },
     "metadata": {
      "needs_background": "light"
     },
     "output_type": "display_data"
    }
   ],
   "source": [
    "plt.plot(t_grid, h_hist[:, 0], label=\"h[t, 0]\", lw=2)\n",
    "plt.plot(t_grid, h_hist[:, 1], label=\"h[t, 1]\", lw=2)\n",
    "plt.xlabel(\"time\")\n",
    "plt.legend()"
   ]
  },
  {
   "cell_type": "code",
   "execution_count": null,
   "metadata": {},
   "outputs": [],
   "source": []
  }
 ],
 "metadata": {
  "kernelspec": {
   "display_name": "Python 3",
   "language": "python",
   "name": "python3"
  },
  "language_info": {
   "codemirror_mode": {
    "name": "ipython",
    "version": 3
   },
   "file_extension": ".py",
   "mimetype": "text/x-python",
   "name": "python",
   "nbconvert_exporter": "python",
   "pygments_lexer": "ipython3",
   "version": "3.5.6"
  }
 },
 "nbformat": 4,
 "nbformat_minor": 2
}
